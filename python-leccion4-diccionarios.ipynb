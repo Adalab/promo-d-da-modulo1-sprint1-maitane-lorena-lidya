{
 "cells": [
  {
   "attachments": {},
   "cell_type": "markdown",
   "metadata": {},
   "source": [
    "# **Ejercicios de pair programming Módulo 1**\n",
    "## **Lección 4**\n",
    "### **Diccionarios**\n",
    "\n",
    "---"
   ]
  },
  {
   "attachments": {},
   "cell_type": "markdown",
   "metadata": {},
   "source": [
    "En el *pair programming* de hoy trabajaremos con diccionarios. El objetivo es poner en práctica todos los métodos aprendidos hasta el momento. Para ello lo primero que haremos será construir un diccionario paso a paso. Nuestro diccionario estará compuesto por:\n",
    "\n",
    "- Cuatro *keys* que serán:\n",
    "    * nombres\n",
    "    * apellidos\n",
    "    * edades\n",
    "    * hijos  \n",
    "\n",
    "    Cada una de las keys tendrá un value que será una lista que iremos construyendo con inputs. Para crear los values seguid los pasos que os indicamos a continuación.\n"
   ]
  },
  {
   "attachments": {},
   "cell_type": "markdown",
   "metadata": {},
   "source": [
    "- Cread un *input* que pregunte a la usuaria por tres nombres. Almacenad el resultado en una lista. Esta lista será el *value* de la *key* `nombres`\n"
   ]
  },
  {
   "cell_type": "code",
   "execution_count": 5,
   "metadata": {},
   "outputs": [],
   "source": [
    "nombres = input(\"Introduzca tres nombres: \").split(\" \")\n"
   ]
  },
  {
   "attachments": {},
   "cell_type": "markdown",
   "metadata": {},
   "source": [
    "- Cread un *input* que pregunte a la usuaria por tres apellidos. Convertir el resultado en lista y este será el *value* de la *key* `apellidos`.\n"
   ]
  },
  {
   "cell_type": "code",
   "execution_count": 6,
   "metadata": {},
   "outputs": [],
   "source": [
    "apellidos = input(\"Introduzca tres apellidos: \").split(\" \")"
   ]
  },
  {
   "attachments": {},
   "cell_type": "markdown",
   "metadata": {},
   "source": [
    "- Cread un *input* que pregunte a la usuaria por tres edades. Almancenad los resultados en una lista. Esta lista será el *value* de la *key* `edades`.\n"
   ]
  },
  {
   "cell_type": "code",
   "execution_count": 7,
   "metadata": {},
   "outputs": [],
   "source": [
    "edades = input(\"Introduzca tres edades: \").split(\" \")"
   ]
  },
  {
   "attachments": {},
   "cell_type": "markdown",
   "metadata": {},
   "source": [
    "#La variable edades es inicialmente de tipo string y con el método split() la convertimos en lista."
   ]
  },
  {
   "attachments": {},
   "cell_type": "markdown",
   "metadata": {},
   "source": [
    "- Cread un *input* que pregunte a la usuaria por el número de hijos. Almacenad este resultado en una lista. Esta lista será el *value* de la *key* `hijos`.\n"
   ]
  },
  {
   "cell_type": "code",
   "execution_count": 9,
   "metadata": {},
   "outputs": [],
   "source": [
    "hijos = input(\"Introduzca cantidad de hijos: \").split(\" \")"
   ]
  },
  {
   "attachments": {},
   "cell_type": "markdown",
   "metadata": {},
   "source": [
    "- Cread un diccionario con los resultados del *input*. Al final de todos estos pasos deberíamos tener un diccionario similar a este:   \n",
    "```python\n",
    "  {'nombres': ['Lara', ' Alejandro', ' Ana'],\n",
    "    'apellidos': ['Lopez', ' Martin', ' Solo'],\n",
    "    'edades': [34, 20, 28],\n",
    "    'hijos': [2, 0, 1]}\n",
    "  ```\n"
   ]
  },
  {
   "cell_type": "code",
   "execution_count": 10,
   "metadata": {},
   "outputs": [],
   "source": [
    "#Para que los valores de las keys: \"edades e hijos\" nos queden similares a los del ejemplo, convertimos los datos de str a int.\n",
    "edades = [int(edades[0]), int(edades[1]), int(edades[2])]\n",
    "hijos = [int(hijos[0]), int(hijos[1]), int(hijos[2])]"
   ]
  },
  {
   "cell_type": "code",
   "execution_count": 12,
   "metadata": {},
   "outputs": [
    {
     "data": {
      "text/plain": [
       "{'nombres': ['Lidya', 'Maitane', 'Lorena'],\n",
       " 'apellidos': ['Descals', 'Portilla', 'Mendoza'],\n",
       " 'edades': [34, 37, 28],\n",
       " 'hijos': [2, 0, 1]}"
      ]
     },
     "execution_count": 12,
     "metadata": {},
     "output_type": "execute_result"
    }
   ],
   "source": [
    "diccionario = {\"nombres\": nombres, \"apellidos\": apellidos, \"edades\": edades, \"hijos\": hijos}\n",
    "diccionario"
   ]
  },
  {
   "attachments": {},
   "cell_type": "markdown",
   "metadata": {},
   "source": [
    "- Una vez tengáis creado el diccionario, añadid una nueva *key* donde tengamos la información sobre el número de hermanos.\n"
   ]
  },
  {
   "cell_type": "code",
   "execution_count": 14,
   "metadata": {},
   "outputs": [],
   "source": [
    "diccionario[\"hermanos\"] = [4, 15, 1]"
   ]
  },
  {
   "attachments": {},
   "cell_type": "markdown",
   "metadata": {},
   "source": [
    "- ¿Cúales son las *keys* de nuestro diccionario? ¿Y los values?\n"
   ]
  },
  {
   "cell_type": "code",
   "execution_count": 15,
   "metadata": {},
   "outputs": [
    {
     "data": {
      "text/plain": [
       "dict_keys(['nombres', 'apellidos', 'edades', 'hijos', 'hermanos'])"
      ]
     },
     "execution_count": 15,
     "metadata": {},
     "output_type": "execute_result"
    }
   ],
   "source": [
    "diccionario.keys()"
   ]
  },
  {
   "cell_type": "code",
   "execution_count": 16,
   "metadata": {},
   "outputs": [
    {
     "data": {
      "text/plain": [
       "dict_values([['Lidya', 'Maitane', 'Lorena'], ['Descals', 'Portilla', 'Mendoza'], [34, 37, 28], [2, 0, 1], [4, 15, 1]])"
      ]
     },
     "execution_count": 16,
     "metadata": {},
     "output_type": "execute_result"
    }
   ],
   "source": [
    "diccionario.values()"
   ]
  },
  {
   "attachments": {},
   "cell_type": "markdown",
   "metadata": {},
   "source": [
    "- Para extraer los *values* de una *key* podemos hacerlo de varias formas.\n",
    "    * Extraed los valores de la *key* nombres. Utilizad dos métodos diferentes."
   ]
  },
  {
   "cell_type": "code",
   "execution_count": 17,
   "metadata": {},
   "outputs": [
    {
     "data": {
      "text/plain": [
       "['Lidya', 'Maitane', 'Lorena']"
      ]
     },
     "execution_count": 17,
     "metadata": {},
     "output_type": "execute_result"
    }
   ],
   "source": [
    "diccionario.get(\"nombres\")"
   ]
  },
  {
   "cell_type": "code",
   "execution_count": 18,
   "metadata": {},
   "outputs": [
    {
     "data": {
      "text/plain": [
       "['Lidya', 'Maitane', 'Lorena']"
      ]
     },
     "execution_count": 18,
     "metadata": {},
     "output_type": "execute_result"
    }
   ],
   "source": [
    "diccionario[\"nombres\"]"
   ]
  },
  {
   "attachments": {},
   "cell_type": "markdown",
   "metadata": {},
   "source": [
    "- Extraed los valores de la *key* nacionalidad. En caso de que no exista, cread esa *key* con el *value* \"desconocida\".\n"
   ]
  },
  {
   "cell_type": "code",
   "execution_count": 19,
   "metadata": {},
   "outputs": [
    {
     "data": {
      "text/plain": [
       "['desconocida']"
      ]
     },
     "execution_count": 19,
     "metadata": {},
     "output_type": "execute_result"
    }
   ],
   "source": [
    "diccionario.setdefault(\"nacionalidad\", [\"desconocida\"])\n",
    "#Para el valor de la nueva key, hemos seleccionado las listas [] para mantener el mismo tipo de dato en el diccionario."
   ]
  },
  {
   "attachments": {},
   "cell_type": "markdown",
   "metadata": {},
   "source": [
    "- Ordena los elementos del diccionario basandonos en las *keys* y los *values*. Esto nos devuelve una lista de tuplas(todavía no hemos visto este tipo de datos, pero lo veremos en la lección de mañana). Convertid esta lista de tuplas en diccionario.\n"
   ]
  },
  {
   "cell_type": "code",
   "execution_count": 20,
   "metadata": {},
   "outputs": [
    {
     "data": {
      "text/plain": [
       "[('apellidos', ['Descals', 'Portilla', 'Mendoza']),\n",
       " ('edades', [34, 37, 28]),\n",
       " ('hermanos', [4, 15, 1]),\n",
       " ('hijos', [2, 0, 1]),\n",
       " ('nacionalidad', ['desconocida']),\n",
       " ('nombres', ['Lidya', 'Maitane', 'Lorena'])]"
      ]
     },
     "execution_count": 20,
     "metadata": {},
     "output_type": "execute_result"
    }
   ],
   "source": [
    "diccionario_tuplas = sorted(diccionario.items())\n",
    "diccionario_tuplas\n",
    "\n",
    "#No hemos aplicado el método sorted() a los values, pues sabemos que nos dara ERROR, ya que no es compatible\n",
    "#con los diferentes tipos de datos (str, int, etc.) que nos podemos encontrar dentro de los values."
   ]
  },
  {
   "attachments": {},
   "cell_type": "markdown",
   "metadata": {},
   "source": [
    "- Eliminad la *key* de \"nacionalidad\"\n"
   ]
  },
  {
   "cell_type": "code",
   "execution_count": 21,
   "metadata": {},
   "outputs": [
    {
     "data": {
      "text/plain": [
       "{'nombres': ['Lidya', 'Maitane', 'Lorena'],\n",
       " 'apellidos': ['Descals', 'Portilla', 'Mendoza'],\n",
       " 'edades': [34, 37, 28],\n",
       " 'hijos': [2, 0, 1],\n",
       " 'hermanos': [4, 15, 1]}"
      ]
     },
     "execution_count": 21,
     "metadata": {},
     "output_type": "execute_result"
    }
   ],
   "source": [
    "diccionario.pop(\"nacionalidad\")\n",
    "diccionario"
   ]
  },
  {
   "cell_type": "markdown",
   "metadata": {},
   "source": [
    "- Utilizando métodos de Python. ¿Qué persona tiene mayor nuúmero de hijos? ¿Y quién es la más joven?"
   ]
  },
  {
   "cell_type": "code",
   "execution_count": 22,
   "metadata": {},
   "outputs": [
    {
     "data": {
      "text/plain": [
       "[2, 0, 1]"
      ]
     },
     "execution_count": 22,
     "metadata": {},
     "output_type": "execute_result"
    }
   ],
   "source": [
    "#A continuación se observará el desarrollo de código correspondiente para resolver la 1ª parte del ejercicio:\n",
    "diccionario[\"hijos\"]"
   ]
  },
  {
   "cell_type": "code",
   "execution_count": 23,
   "metadata": {},
   "outputs": [
    {
     "data": {
      "text/plain": [
       "2"
      ]
     },
     "execution_count": 23,
     "metadata": {},
     "output_type": "execute_result"
    }
   ],
   "source": [
    "max(diccionario[\"hijos\"])"
   ]
  },
  {
   "cell_type": "code",
   "execution_count": 24,
   "metadata": {},
   "outputs": [
    {
     "data": {
      "text/plain": [
       "0"
      ]
     },
     "execution_count": 24,
     "metadata": {},
     "output_type": "execute_result"
    }
   ],
   "source": [
    "diccionario[\"hijos\"].index (max(diccionario[\"hijos\"]))"
   ]
  },
  {
   "cell_type": "code",
   "execution_count": 25,
   "metadata": {},
   "outputs": [
    {
     "data": {
      "text/plain": [
       "'Lidya'"
      ]
     },
     "execution_count": 25,
     "metadata": {},
     "output_type": "execute_result"
    }
   ],
   "source": [
    "diccionario [\"nombres\"][diccionario[\"hijos\"].index (max(diccionario[\"hijos\"]))]"
   ]
  },
  {
   "cell_type": "code",
   "execution_count": 26,
   "metadata": {},
   "outputs": [
    {
     "data": {
      "text/plain": [
       "'Lorena'"
      ]
     },
     "execution_count": 26,
     "metadata": {},
     "output_type": "execute_result"
    }
   ],
   "source": [
    "#Basándonos en los pasos del ejercicio anterior, resolveremos el ejercicio actual en una sola línea de código\n",
    "diccionario [\"nombres\"][diccionario[\"edades\"].index (min(diccionario[\"edades\"]))]"
   ]
  }
 ],
 "metadata": {
  "kernelspec": {
   "display_name": "adalabenv",
   "language": "python",
   "name": "python3"
  },
  "language_info": {
   "codemirror_mode": {
    "name": "ipython",
    "version": 3
   },
   "file_extension": ".py",
   "mimetype": "text/x-python",
   "name": "python",
   "nbconvert_exporter": "python",
   "pygments_lexer": "ipython3",
   "version": "3.10.9"
  },
  "orig_nbformat": 4,
  "vscode": {
   "interpreter": {
    "hash": "0b8bbabd87d3ce636409443d1398e5656bf795e33c753b5e821c4b969f4e6c41"
   }
  }
 },
 "nbformat": 4,
 "nbformat_minor": 2
}
