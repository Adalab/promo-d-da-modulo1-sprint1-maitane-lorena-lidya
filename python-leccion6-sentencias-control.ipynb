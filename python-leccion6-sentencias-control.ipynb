{
 "cells": [
  {
   "attachments": {},
   "cell_type": "markdown",
   "metadata": {},
   "source": [
    "# **Ejercicios de pair programming Módulo 1**\n",
    "## **Lección 6**\n",
    "### **Sentencias de control**\n",
    "\n",
    "---"
   ]
  },
  {
   "attachments": {},
   "cell_type": "markdown",
   "metadata": {},
   "source": [
    " - En la escuela donde trabajamos tienen el siguiente sistema de notas:\n",
    "    - Below 25 - F\n",
    "    - 25 to 45 - E\n",
    "    - 45 to 50 - D\n",
    "    - 50 to 60 - C\n",
    "    - 60 to 80 - B\n",
    "    - Above 80 - A\n",
    "\n",
    "El objetivo de este ejercicio es que le preguntéis al usuario por una nota (numérica) y nosotros le devolvamos la nota con la letra que le corresponde.\n"
   ]
  },
  {
   "cell_type": "code",
   "execution_count": 3,
   "metadata": {},
   "outputs": [
    {
     "name": "stdout",
     "output_type": "stream",
     "text": [
      "Has sacado una 'C'\n"
     ]
    }
   ],
   "source": [
    "# Entendemos que los rangos incluyen desde el límite inferior incluído hasta el límite superior no incluído. \n",
    "nota = int(input(\"Escriba aquí su nota numérica del 0 al 100: \"))\n",
    "\n",
    "\n",
    "if nota < 25:\n",
    "    print(\"Has sacado una 'F'\")\n",
    "elif nota < 45:\n",
    "    print(\"Has sacado una 'E'\")\n",
    "elif nota < 50:\n",
    "    print(\"Has sacado una 'D'\")\n",
    "elif nota < 60:\n",
    "    print(\"Has sacado una 'C'\")\n",
    "elif nota < 80:\n",
    "    print(\"Has sacado una 'B'\")\n",
    "else:\n",
    "    print(\"Has sacado una 'A'\")"
   ]
  },
  {
   "attachments": {},
   "cell_type": "markdown",
   "metadata": {},
   "source": [
    "\n",
    " - Cread tres inputs donde a cada uno de ellos le preguntéis su edad, el objetivo del ejercicio es determinar quien es el más viejo y el más joven.\n",
    "\n"
   ]
  },
  {
   "cell_type": "code",
   "execution_count": 3,
   "metadata": {},
   "outputs": [
    {
     "name": "stdout",
     "output_type": "stream",
     "text": [
      "La persona1 tiene 41 años\n",
      "La persona2 tiene 82 años\n",
      "La persona3 tiene 31 años\n",
      "Persona3, tienes 31 años, eres el más jóven\n",
      "Persona2, tienes 82 años, eres el más viejo\n"
     ]
    }
   ],
   "source": [
    "persona1 = int(input(\"¿Cuántos años tienes?\"))\n",
    "persona2 = int(input(\"¿Cuántos años tienes?\"))\n",
    "persona3 = int(input(\"¿Cuántos años tienes?\"))\n",
    "\n",
    "print(f\"La persona1 tiene {persona1} años\")\n",
    "print(f\"La persona2 tiene {persona2} años\")\n",
    "print(f\"La persona3 tiene {persona3} años\")\n",
    "\n",
    "if persona1 < persona2 and persona1 < persona3:\n",
    "    print (f\"Persona1, tienes {persona1} años, eres el más jóven\")\n",
    "elif persona2 < persona1 and persona2 < persona3:\n",
    "    print (f\"Persona2, tienes {persona2} años, eres el más jóven\")\n",
    "elif persona3 < persona2 and persona3 < persona1:\n",
    "    print (f\"Persona3, tienes {persona3} años, eres el más jóven\")\n",
    "elif persona1 == persona2 == persona3:\n",
    "    print(f\"Tenéis los tres la misma edad, {persona1} años\")\n",
    "else:\n",
    "    print(\"Al menos dos de vosotros tenéis la misma edad y sois los más jóvenes\")\n",
    "\n",
    "if persona1 > persona2 and persona1 > persona3:\n",
    "    print (f\"Persona1, tienes {persona1} años, eres el más viejo\")\n",
    "elif persona2 > persona1 and persona2 > persona3:\n",
    "    print (f\"Persona2, tienes {persona2} años, eres el más viejo\")\n",
    "elif persona3 > persona2 and persona3 > persona1:\n",
    "    print (f\"Persona3, tienes {persona3} años, eres el más viejo\")\n",
    "else:\n",
    "    print(\"Al menos dos de vosotros tenéis la misma edad y sois los más viejos\")"
   ]
  },
  {
   "attachments": {},
   "cell_type": "markdown",
   "metadata": {},
   "source": [
    " - Escribid un programa que pregunte el nombre del usuario a través de la función input(). Si el nombre es \"Bond\" haced que imprima \"Bienvenido a bordo de 007\". En caso contrario haced que imprima \"Buenos días NOMBRE\". (Reemplace NOMBRE por el nombre del usuario).\n",
    "\n"
   ]
  },
  {
   "cell_type": "code",
   "execution_count": 9,
   "metadata": {},
   "outputs": [
    {
     "name": "stdout",
     "output_type": "stream",
     "text": [
      "Buenos días Monnypenny\n"
     ]
    }
   ],
   "source": [
    "nombre = input(\"Escriba aquí su nombre: \")\n",
    "\n",
    "if nombre == \"Bond\":\n",
    "    print(\"Bienvenido a bordo de 007\")\n",
    "else:\n",
    "    print(f\"Buenos días {nombre}\")"
   ]
  },
  {
   "attachments": {},
   "cell_type": "markdown",
   "metadata": {},
   "source": [
    " - `arbol` es un diccionario que muestra el número de árboles de países por kilómetro cuadrado para países aleatorios con un número considerable de población. Crea una lista llamada \"masarboles\" que contenga el nombre de los países con más de 40.000 árboles por kilómetro cuadrado.\n",
    "\n",
    "```python\n",
    "        \n",
    "        tree = {\"Taiwan\": 69593,\n",
    "                \"Japan\": 49894, \n",
    "                \"Russia\": 41396, \n",
    "                \"Canada\": 36388, \n",
    "                \"Bulgaria\": 24987}\n",
    "```\n"
   ]
  },
  {
   "cell_type": "code",
   "execution_count": 11,
   "metadata": {},
   "outputs": [],
   "source": [
    "tree = {\"Taiwan\": 69593,\n",
    "        \"Japan\": 49894, \n",
    "        \"Russia\": 41396, \n",
    "        \"Canada\": 36388, \n",
    "        \"Bulgaria\": 24987}"
   ]
  },
  {
   "cell_type": "code",
   "execution_count": 16,
   "metadata": {},
   "outputs": [
    {
     "name": "stdout",
     "output_type": "stream",
     "text": [
      "Añadimos Taiwan\n",
      "['Taiwan']\n",
      "...\n",
      "Añadimos Japan\n",
      "['Taiwan', 'Japan']\n",
      "...\n",
      "Añadimos Russia\n",
      "['Taiwan', 'Japan', 'Russia']\n",
      "...\n"
     ]
    }
   ],
   "source": [
    "masarboles =[]\n",
    "\n",
    "if tree[\"Taiwan\"] > 40000:\n",
    "    print(\"Añadimos Taiwan\")\n",
    "    masarboles.append(\"Taiwan\")\n",
    "    print (masarboles)\n",
    "    print(\"...\")\n",
    "\n",
    "if tree[\"Japan\"] > 40000:\n",
    "    print(\"Añadimos Japan\")\n",
    "    masarboles.append(\"Japan\")\n",
    "    print (masarboles)\n",
    "    print(\"...\")\n",
    "\n",
    "if tree[\"Russia\"] > 40000:\n",
    "    print(\"Añadimos Russia\")\n",
    "    masarboles.append(\"Russia\")\n",
    "    print (masarboles)\n",
    "    print(\"...\")\n",
    "\n",
    "if tree[\"Canada\"] > 40000:\n",
    "    print(\"Añadimos Canada\")\n",
    "    masarboles.append(\"Canada\")\n",
    "    print (masarboles)\n",
    "    print(\"...\")\n",
    "\n",
    "if tree[\"Bulgaria\"] > 40000:\n",
    "    print(\"Añadimos Bulgaria\")\n",
    "    masarboles.append(\"Bulgaria\")\n",
    "    print (masarboles)\n",
    "    print(\"...\")"
   ]
  },
  {
   "attachments": {},
   "cell_type": "markdown",
   "metadata": {},
   "source": [
    "\n",
    " - Los alumnos de un curso se han dividido en dos grupos A y B de acuerdo al sexo y el nombre. El grupo A esta formado por las mujeres con un nombre anterior a la M y los hombres con un nombre posterior a la N y el grupo B por el resto. Escribid un programa que pregunte al usuario su nombre y sexo, y muestre por pantalla el grupo que le corresponde.\n"
   ]
  },
  {
   "cell_type": "code",
   "execution_count": 11,
   "metadata": {},
   "outputs": [
    {
     "name": "stdout",
     "output_type": "stream",
     "text": [
      "Helena\n",
      "mujer\n",
      "Perteneces al grupo A\n"
     ]
    }
   ],
   "source": [
    "alumno = input(\"Escriba aquí su nombre: \")\n",
    "sexo = input(\"Escriba aquí si es hombre o mujer, en minúsculas, por favor: \")\n",
    "print(alumno)\n",
    "print(sexo)\n",
    "\n",
    "\n",
    "if (sexo == \"mujer\" and alumno <= \"N\") or (sexo == \"hombre\" and alumno >= \"N\"):\n",
    "    print(\"Perteneces al grupo A\")\n",
    "else:\n",
    "    print(\"Perteneces al grupo B\")"
   ]
  },
  {
   "attachments": {},
   "cell_type": "markdown",
   "metadata": {},
   "source": [
    "Escribid un programa que:\n",
    " - Dada la variable z con valor 0, es decir z = 0.\n",
    " - Mientras que el valor de z sea menor que 3:\n",
    "    - Si el valor de z es igual a 0:\n",
    "        - Printead el valor de z\n",
    "        - Almancenad el valor en una lista auxiliar\n",
    "        - Sumadle 1 al valor de z\n",
    "    - Si el valor de z es igual a 1:\n",
    "        - Printead el valor de z\n",
    "        - Almancenad el valor en una lista auxiliar\n",
    "        - Sumadle 1 al valor de z\n",
    "    - En caso de que no se cumplan las condiciones anteriores:\n",
    "        - Printead el valor de z\n",
    "        - Sumadle 1 al valor de z\n",
    "        \n"
   ]
  },
  {
   "cell_type": "code",
   "execution_count": 14,
   "metadata": {},
   "outputs": [
    {
     "name": "stdout",
     "output_type": "stream",
     "text": [
      "0\n",
      "1\n",
      "2\n",
      "---\n",
      "3\n",
      "[0, 1]\n"
     ]
    }
   ],
   "source": [
    "z = 0\n",
    "lista_z = []\n",
    "\n",
    "while z < 3:\n",
    "    if z == 0:\n",
    "        print(z)\n",
    "        lista_z.append(z)\n",
    "        z += 1\n",
    "    elif z == 1:\n",
    "        print(z)\n",
    "        lista_z.append(z)\n",
    "        z += 1\n",
    "    else:\n",
    "        print(z)\n",
    "        z+=1\n",
    "        \n",
    "\n",
    "print(\"---\")\n",
    "print(z)\n",
    "print(lista_z)"
   ]
  },
  {
   "attachments": {},
   "cell_type": "markdown",
   "metadata": {},
   "source": [
    "El objetivo de este ejercicio es añadir elementos a una lista utilizando el bucle while:\n",
    " - Cread una lista vacía\n",
    " - Cread una variable cuyo valor sea 0\n",
    " - Mientras que la longitud de la lista creada en el primer paso sea menor que 4:\n",
    "    - Apendead el valor de la variable creada en el paso 2\n",
    "    - Sumad 1 a la variable creada en el paso 2\n",
    " - Por último, printead los valores que hemos añadido en la lista vacía (ya no lo estaría)\n"
   ]
  },
  {
   "cell_type": "code",
   "execution_count": 15,
   "metadata": {},
   "outputs": [
    {
     "name": "stdout",
     "output_type": "stream",
     "text": [
      "4\n",
      "[0, 1, 2, 3]\n"
     ]
    }
   ],
   "source": [
    "lista_vacia = []\n",
    "vacia = 0\n",
    "\n",
    "while len(lista_vacia) < 4:\n",
    "    lista_vacia.append(vacia)\n",
    "    vacia += 1\n",
    "        \n",
    "\n",
    "print(vacia)\n",
    "print(lista_vacia)"
   ]
  },
  {
   "attachments": {},
   "cell_type": "markdown",
   "metadata": {},
   "source": [
    "\n",
    "El objetivo de este ejercicio es encontrar la suma de números en una lista usando el bucle while:\n",
    " - Cread una variable cuyo valor sea 0, llamadla \"i\"\n",
    " - Cread una lista que contenga los siguientes números: 23,45,12,10,25\n",
    " - Cread una variable cuyo valor sea 0, llamadla \"suma\"\n",
    " - Mientras que el valor de la variable \"i\" sea menor que la longitud de la lista:\n",
    "    - Sumad elemento a elemento los valores de la lista. Es decir, el primero con el segundo; el resultado de la suma anterior más el tercer número, etc\n",
    "    - Sumad 1 a la variable \"i\" por cada iteración por el bucle while\n",
    " - El resultado esperado es 115.\n"
   ]
  },
  {
   "cell_type": "code",
   "execution_count": 1,
   "metadata": {},
   "outputs": [
    {
     "name": "stdout",
     "output_type": "stream",
     "text": [
      "Este es el valor de i: 1\n",
      "Suma: 23\n",
      "Este es el valor de i: 2\n",
      "Suma: 68\n",
      "Este es el valor de i: 3\n",
      "Suma: 80\n",
      "Este es el valor de i: 4\n",
      "Suma: 90\n",
      "Este es el valor de i: 5\n",
      "Suma: 115\n"
     ]
    }
   ],
   "source": [
    "i = 0\n",
    "lista_numeros = [23, 45, 12, 10, 25]\n",
    "lista_numeros_copia = lista_numeros.copy()\n",
    "suma = 0\n",
    "\n",
    "while i < len(lista_numeros):\n",
    "\n",
    "    suma += lista_numeros_copia[0]\n",
    "    lista_numeros_copia.pop(0)\n",
    "    i += 1\n",
    "    print(f\"Este es el valor de i: {i}\")\n",
    "    print(f\"Suma: {suma}\") "
   ]
  },
  {
   "attachments": {},
   "cell_type": "markdown",
   "metadata": {},
   "source": [
    "\n",
    " - Escribid un programa para una empresa que tiene salas de juegos para todas las edades y quiere calcular de forma automática el precio que debe cobrar a sus clientes por entrar. El programa debe preguntar al usuario la edad del cliente y mostrar el precio de la entrada. Si el cliente es menor de 4 años puede entrar gratis, si tiene entre 4 y 18 años debe pagar 5€ y si es mayor de 18 años, 10€.\n"
   ]
  },
  {
   "cell_type": "code",
   "execution_count": 24,
   "metadata": {},
   "outputs": [
    {
     "name": "stdout",
     "output_type": "stream",
     "text": [
      "13\n",
      "Debe pagar 5€\n"
     ]
    }
   ],
   "source": [
    "edad_cliente = int(input(\"¿Qué edad tiene?\"))\n",
    "print(edad_cliente)\n",
    "\n",
    "if edad_cliente < 4:\n",
    "    print(\"Puede entrar gratis\")\n",
    "elif edad_cliente < 18:\n",
    "    print(\"Debe pagar 5€\")\n",
    "else:\n",
    "    print(\"Debe pagar 10€\")"
   ]
  },
  {
   "attachments": {},
   "cell_type": "markdown",
   "metadata": {},
   "source": [
    "\n",
    " - La pizzería Bella Napoli ofrece pizzas vegetarianas y no vegetarianas a sus clientes. Los ingredientes para cada tipo de pizza aparecen a continuación.\n",
    "     - Ingredientes vegetarianos: Pimiento y tofu.\n",
    "     - Ingredientes no vegetarianos: Peperoni, Jamón y Salmón.\n",
    "     \n",
    "    Escribid un programa que pregunte al usuario si quiere una pizza vegetariana o no, y en función de su respuesta le muestre un menú con los ingredientes disponibles para que elija. Solo se puede eligir un ingrediente además de la mozzarella y el tomate que están en todas la pizzas. Al final se debe mostrar por pantalla si la pizza elegida es vegetariana o no y todos los ingredientes que lleva."
   ]
  },
  {
   "cell_type": "code",
   "execution_count": 33,
   "metadata": {},
   "outputs": [
    {
     "name": "stdout",
     "output_type": "stream",
     "text": [
      "¿Cómo quiere el cliente la pizza? no vegetariana\n",
      "Ingredientes no vegetarianos disponibles: ['peperoni', 'jamon', 'salmon']\n",
      "Su pizza es no vegetariana, y lleva estos ingredientes: ['mozzarella', 'tomate', 'jamon']\n"
     ]
    }
   ],
   "source": [
    "eleccion_cliente = input(\"¿Quiere una pizza vegetariana o no vegetariana?\")\n",
    "print(f\"¿Cómo quiere el cliente la pizza? {eleccion_cliente}\")\n",
    "\n",
    "ingredientes_vegetarianos = [\"pimiento\", \"tofu\"]\n",
    "ingredientes_no_vegetarianos = [\"peperoni\", \"jamon\", \"salmon\"]\n",
    "lista_pizza = [\"mozzarella\", \"tomate\"]\n",
    "      \n",
    "if eleccion_cliente == \"vegetariana\":\n",
    "    print(f\"Ingredientes vegetarianos disponibles: {ingredientes_vegetarianos}\")\n",
    "    ingrediente_vegetariano = input(\"Elija un ingrediente de la lista:\")\n",
    "    lista_pizza.append(ingrediente_vegetariano)\n",
    "    print(f\"Su pizza es {eleccion_cliente}, y lleva estos ingredientes: {lista_pizza}\")\n",
    "else:\n",
    "    print(f\"Ingredientes no vegetarianos disponibles: {ingredientes_no_vegetarianos}\")\n",
    "    ingrediente_no_vegetariano = input(\"Elija un ingrediente de la lista:\")\n",
    "    lista_pizza.append(ingrediente_no_vegetariano)\n",
    "    print(f\"Su pizza es {eleccion_cliente}, y lleva estos ingredientes: {lista_pizza}\")"
   ]
  }
 ],
 "metadata": {
  "kernelspec": {
   "display_name": "adalabenv",
   "language": "python",
   "name": "python3"
  },
  "language_info": {
   "codemirror_mode": {
    "name": "ipython",
    "version": 3
   },
   "file_extension": ".py",
   "mimetype": "text/x-python",
   "name": "python",
   "nbconvert_exporter": "python",
   "pygments_lexer": "ipython3",
   "version": "3.10.9"
  },
  "orig_nbformat": 4,
  "vscode": {
   "interpreter": {
    "hash": "982f2751c33df6248463c13acbc6212f8872fb2f983edea342e7641fdc0e9b5d"
   }
  }
 },
 "nbformat": 4,
 "nbformat_minor": 2
}
