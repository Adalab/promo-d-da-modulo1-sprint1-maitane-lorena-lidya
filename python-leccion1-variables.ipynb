{
 "cells": [
  {
   "attachments": {},
   "cell_type": "markdown",
   "metadata": {},
   "source": [
    "# **Ejercicios de pair programming Módulo 1**\n",
    "## **Lección 1**\n",
    "### **Variables, booleanos, operadores numéricos y binarios**\n",
    "\n",
    "---"
   ]
  },
  {
   "attachments": {},
   "cell_type": "markdown",
   "metadata": {},
   "source": [
    "- Cread tres variables numéricas de tipo integer (entero), llamadas de la siguiente forma: `numero1`, `numero2`, `numero3`.  \n",
    "\n",
    "     * Utilizando los operadores lógicos:\n",
    "        - En vuestro caso, es el `numero1` mayor que el `numero2`\n",
    "        - Es el `numero1` menor que el `numero2` pero mayor que el `numero3`\n",
    "        - Es el `numero3` igual que el `numero2`\n",
    "        - Es el `numero2` distinto que el `numero1`"
   ]
  },
  {
   "cell_type": "code",
   "execution_count": 1,
   "metadata": {},
   "outputs": [],
   "source": [
    "numero1 = 1\n",
    "numero2 = 2\n",
    "numero3 = 3\n"
   ]
  },
  {
   "cell_type": "code",
   "execution_count": 5,
   "metadata": {},
   "outputs": [
    {
     "name": "stdout",
     "output_type": "stream",
     "text": [
      "False\n",
      "False\n",
      "False\n",
      "True\n"
     ]
    }
   ],
   "source": [
    "print(numero1 > numero2)\n",
    "print((numero1 < numero2) \n",
    "        and (numero1 > numero3))\n",
    "print(numero3 == numero2)\n",
    "print(numero2 != numero1)"
   ]
  },
  {
   "attachments": {},
   "cell_type": "markdown",
   "metadata": {},
   "source": [
    "- Cread dos variables numéricas de tipo float (decimal) con dos decimales, llamdas de la siguiente forma: `altura`, `altura2`. Utilizando los operadores matemáticos aprendidos en la lección:\n",
    "    - Cuál es la suma de las dos alturas\n",
    "    - Cuál es la diferencia entre las alturas\n",
    "    - Cuál es el resto de la división de las dos alturas\n",
    "    - Cuál es resultado de la división de las dos alturas, redondead el resultado a un decimal."
   ]
  },
  {
   "cell_type": "code",
   "execution_count": 7,
   "metadata": {},
   "outputs": [],
   "source": [
    "altura1 = 6.54\n",
    "altura2 = 7.81"
   ]
  },
  {
   "cell_type": "code",
   "execution_count": 8,
   "metadata": {},
   "outputs": [
    {
     "name": "stdout",
     "output_type": "stream",
     "text": [
      "14.35\n",
      "1.2699999999999996\n",
      "1.2699999999999996\n",
      "1.2\n"
     ]
    }
   ],
   "source": [
    "print(altura1 + altura2)\n",
    "print(altura2 - altura1)\n",
    "print(altura2 % altura1)\n",
    "print(round(altura2 / altura1,1))"
   ]
  },
  {
   "attachments": {},
   "cell_type": "markdown",
   "metadata": {},
   "source": [
    "- Escribid un programa usando la función `input()` que le pregunte al usuario su nombre y apellidos. Una vez que tengamos el nombre del usuario:\n",
    "    - Printead su nombre y apellidos todo en mayúsculas\n",
    "    - Printead su nombre y apellidos todo en minúsculas\n",
    "    - Printead su nombre y apellidos con la primera letra del nombre y los apellidos en mayúscula y el resto en minúscula.\n",
    "    - Printeas solo la primera letra del nombre en mayúscula."
   ]
  },
  {
   "cell_type": "code",
   "execution_count": 3,
   "metadata": {},
   "outputs": [
    {
     "name": "stdout",
     "output_type": "stream",
     "text": [
      "MARTA GARCÍA SÁNCHEZ\n",
      "marta garcía sánchez\n",
      "Marta García Sánchez\n",
      "Marta garcía sánchez\n"
     ]
    }
   ],
   "source": [
    "nombre_completo = input(\"Por favor, introduzca su nombre y apellidos: \")\n",
    "print(nombre_completo.upper())\n",
    "print(nombre_completo.lower())\n",
    "print(nombre_completo.title())\n",
    "print(nombre_completo.capitalize())"
   ]
  },
  {
   "attachments": {},
   "cell_type": "markdown",
   "metadata": {},
   "source": [
    "- Escribid un programa usando la función `input()` que:\n",
    "    - Le pregunte al usuario por una frase, almacenad este resultado en una variable.\n",
    "    - Le pregunte al usuario por una vocal, almacenad este resultado en una variable.\n",
    "    - Printead la misma frase pero con la vocal introducida en mayúsulas."
   ]
  },
  {
   "cell_type": "code",
   "execution_count": 2,
   "metadata": {},
   "outputs": [],
   "source": [
    "frase = input(\"Escriba aquí su frase: \")\n",
    "vocal = input(\"Introduzca una vocal: \")"
   ]
  },
  {
   "cell_type": "code",
   "execution_count": 3,
   "metadata": {},
   "outputs": [
    {
     "name": "stdout",
     "output_type": "stream",
     "text": [
      "E\n",
      "Esta frasE llEva más vocalEs\n"
     ]
    }
   ],
   "source": [
    "print(vocal.upper())\n",
    "print(frase.replace(\"e\", vocal.upper()))"
   ]
  },
  {
   "attachments": {},
   "cell_type": "markdown",
   "metadata": {},
   "source": [
    "- Escribid un programa usando la función `input()` que:\n",
    "    - Le pregunte al usuario por la lista de la compra, separando cada elemento por comas.\n",
    "    - Devolved la lista de compra donde veamos cada elemento en una línea.  \n",
    "\n",
    "    💡Pista  \n",
    "    - Para indicar salto de línea usaremos \"\\n\".  \n",
    "    - Deberéis usar el método join de los strings  \n",
    "    \n",
    "   📌Output deseado\n",
    "   ```python\n",
    "       resultado_del_input = [\"peras\", \"manzanas\", \"naranjas\"]    \n",
    "       # output después del ejercicio\\n\n",
    "       \"peras\"\n",
    "       \"manzanas\"\n",
    "       \"naranjas\"\n",
    "    ```"
   ]
  },
  {
   "cell_type": "code",
   "execution_count": 39,
   "metadata": {},
   "outputs": [],
   "source": [
    "lista_compra = input(\"Introduzca cada elemento de la lista separándolo con comas: \")\n"
   ]
  },
  {
   "cell_type": "code",
   "execution_count": 40,
   "metadata": {},
   "outputs": [
    {
     "name": "stdout",
     "output_type": "stream",
     "text": [
      "peras\n",
      "manzanas\n",
      "naranjas\n"
     ]
    }
   ],
   "source": [
    "lista_separada = lista_compra.split(\", \")\n",
    "lista_en_cadena = \"\\n\".join(lista_separada)\n",
    "print(lista_en_cadena)"
   ]
  }
 ],
 "metadata": {
  "kernelspec": {
   "display_name": "Python 3",
   "language": "python",
   "name": "python3"
  },
  "language_info": {
   "codemirror_mode": {
    "name": "ipython",
    "version": 3
   },
   "file_extension": ".py",
   "mimetype": "text/x-python",
   "name": "python",
   "nbconvert_exporter": "python",
   "pygments_lexer": "ipython3",
   "version": "3.6.9"
  },
  "orig_nbformat": 4,
  "vscode": {
   "interpreter": {
    "hash": "31f2aee4e71d21fbe5cf8b01ff0e069b9275f58929596ceb00d14d90e3e16cd6"
   }
  }
 },
 "nbformat": 4,
 "nbformat_minor": 2
}
