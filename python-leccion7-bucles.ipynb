{
 "cells": [
  {
   "attachments": {},
   "cell_type": "markdown",
   "metadata": {},
   "source": [
    "# **Ejercicios de pair programming Módulo 1**\n",
    "## **Lección 7**\n",
    "### **Bucles**\n",
    "\n",
    "---"
   ]
  },
  {
   "attachments": {},
   "cell_type": "markdown",
   "metadata": {},
   "source": [
    " - Escribid un programa que pregunte al usuario una cantidad a invertir, el interés anual y el número de años, y muestre por pantalla el capital obtenido en la inversión cada año que dura la inversión."
   ]
  },
  {
   "cell_type": "code",
   "execution_count": 10,
   "metadata": {},
   "outputs": [
    {
     "name": "stdout",
     "output_type": "stream",
     "text": [
      "Cantidad a invertir: 1500 euros\n",
      "El interés anual es: 4 %\n",
      "Su inversión es a: 6 años\n"
     ]
    }
   ],
   "source": [
    "cantidad_invertir = int(input(\"¿Que cantidad quieres invertir?\"))\n",
    "interes_anual = int(input(\"¿Qué porcentaje de interes anual te gustaria aplicar?\"))\n",
    "numero_años = int(input(\"¿A cuántos años es la inversión?\"))\n",
    "\n",
    "print(f\"Cantidad a invertir: {cantidad_invertir} euros\")\n",
    "print(f\"El interés anual es: {interes_anual} %\")\n",
    "print(f\"Su inversión es a: {numero_años} años\")"
   ]
  },
  {
   "cell_type": "code",
   "execution_count": 11,
   "metadata": {},
   "outputs": [
    {
     "name": "stdout",
     "output_type": "stream",
     "text": [
      "El capital obtenido el año 1 es 60.0\n",
      "El capital obtenido el año 2 es 62.4\n",
      "El capital obtenido el año 3 es 64.9\n",
      "El capital obtenido el año 4 es 67.49\n",
      "El capital obtenido el año 5 es 70.19\n",
      "El capital obtenido el año 6 es 73.0\n"
     ]
    }
   ],
   "source": [
    "for i in range(numero_años):\n",
    "    capital_obtenido = round(cantidad_invertir * interes_anual/100, 2) \n",
    "    print(f\"El capital obtenido el año {i+1} es {capital_obtenido}\")\n",
    "    cantidad_invertir += capital_obtenido\n",
    "    "
   ]
  },
  {
   "attachments": {},
   "cell_type": "markdown",
   "metadata": {},
   "source": [
    " - Escribid un programa en el que se pregunte al usuario por una frase y una letra, y muestre por pantalla el número de veces que aparece la letra en la frase."
   ]
  },
  {
   "cell_type": "code",
   "execution_count": 15,
   "metadata": {},
   "outputs": [
    {
     "name": "stdout",
     "output_type": "stream",
     "text": [
      "La frase elegida es: Pienso luego existe\n",
      "La letra elegida es: w\n",
      "La letra aparece en la frase 0 veces\n"
     ]
    }
   ],
   "source": [
    "#Primera manera de resolver el problema (sencilla, pero sin for loops):\n",
    "\n",
    "frase = input(\"Diga una frase\")\n",
    "letra = input(\"Elija una letra\")\n",
    "\n",
    "print(f\"La frase elegida es: {frase}\")\n",
    "print(f\"La letra elegida es: {letra}\")\n",
    "\n",
    "numero_veces = frase.count(letra)\n",
    "print(f\"La letra aparece en la frase {numero_veces} veces\")\n"
   ]
  },
  {
   "cell_type": "code",
   "execution_count": 16,
   "metadata": {},
   "outputs": [
    {
     "name": "stdout",
     "output_type": "stream",
     "text": [
      "La frase elegida es: Pienso luego existo\n",
      "La letra elegida es: o\n",
      "La letra aparece en la frase 3 veces\n"
     ]
    }
   ],
   "source": [
    "#Resolución final de ejercicio con un loop:\n",
    "\n",
    "frase2 = input(\"Diga una frase\")\n",
    "letra2 = input(\"Elija una letra\")\n",
    "\n",
    "print(f\"La frase elegida es: {frase2}\")\n",
    "print(f\"La letra elegida es: {letra2}\")\n",
    "\n",
    "numero_veces2 = 0\n",
    "for l in frase2:\n",
    "   if l == letra2:\n",
    "    numero_veces2 += 1\n",
    "\n",
    "print(f\"La letra aparece en la frase {numero_veces2} veces\")\n",
    "   "
   ]
  },
  {
   "attachments": {},
   "cell_type": "markdown",
   "metadata": {},
   "source": [
    " - Escribid un programa que nos devuelva la tabla de multiplicar de un número especificado en una función input.\n",
    " "
   ]
  },
  {
   "cell_type": "code",
   "execution_count": 18,
   "metadata": {},
   "outputs": [
    {
     "name": "stdout",
     "output_type": "stream",
     "text": [
      "El numero elegido es 7\n",
      "7 x 0 = 0\n",
      "7 x 1 = 7\n",
      "7 x 2 = 14\n",
      "7 x 3 = 21\n",
      "7 x 4 = 28\n",
      "7 x 5 = 35\n",
      "7 x 6 = 42\n",
      "7 x 7 = 49\n",
      "7 x 8 = 56\n",
      "7 x 9 = 63\n",
      "7 x 10 = 70\n"
     ]
    }
   ],
   "source": [
    "numero_elegido = int(input(\"Seleccione un número del 0 a 10\"))\n",
    "print(f\"El numero elegido es {numero_elegido}\")\n",
    "\n",
    "for i in range(11):\n",
    "    print(f\"{numero_elegido} x {i} = {numero_elegido*i}\")\n",
    "    \n"
   ]
  },
  {
   "attachments": {},
   "cell_type": "markdown",
   "metadata": {},
   "source": [
    "Dada la siguinte lista de números:\n",
    "\n",
    "```python\n",
    "numbers = [12, 75, 150, 180, 145, 525, 50]\n",
    "```\n",
    "\n",
    " - Escribid un programa que muestre sólo los números de una lista que cumplan las siguientes condiciones:\n",
    "    - El número debe ser divisible entre cinco\n",
    "    - Si el número es mayor que 150, se salta y se pasa al siguiente número\n",
    "    - Si el número es mayor que 500, entonces detenga el bucle"
   ]
  },
  {
   "cell_type": "code",
   "execution_count": null,
   "metadata": {},
   "outputs": [],
   "source": [
    "numero = [12, 75, 150, 180, 145, 525, 50]\n",
    "\n"
   ]
  },
  {
   "attachments": {},
   "cell_type": "markdown",
   "metadata": {},
   "source": [
    "Dada la siguiente lista:\n",
    "\n",
    "```python\n",
    "list1 = [10, 20, 30, 40, 50]\n",
    "```\n",
    "\n",
    " - Imprimir la lista en orden inverso"
   ]
  },
  {
   "cell_type": "code",
   "execution_count": null,
   "metadata": {},
   "outputs": [],
   "source": []
  },
  {
   "attachments": {},
   "cell_type": "markdown",
   "metadata": {},
   "source": [
    "Dado el siguiente código:\n",
    "\n",
    "```python\n",
    "for i in ['1','2','3']:\n",
    "    print (i**2)\n",
    "```\n",
    "\n",
    " - Usando un *try ... except*, cread un programa para evitar que nos de un error el código anterior. En su lugar, si se encuentra un error, deberéis poner el código necesario para que no nos devuelva error."
   ]
  },
  {
   "cell_type": "code",
   "execution_count": null,
   "metadata": {},
   "outputs": [],
   "source": []
  }
 ],
 "metadata": {
  "kernelspec": {
   "display_name": "adalabenv",
   "language": "python",
   "name": "python3"
  },
  "language_info": {
   "codemirror_mode": {
    "name": "ipython",
    "version": 3
   },
   "file_extension": ".py",
   "mimetype": "text/x-python",
   "name": "python",
   "nbconvert_exporter": "python",
   "pygments_lexer": "ipython3",
   "version": "3.10.9"
  },
  "orig_nbformat": 4,
  "vscode": {
   "interpreter": {
    "hash": "0b8bbabd87d3ce636409443d1398e5656bf795e33c753b5e821c4b969f4e6c41"
   }
  }
 },
 "nbformat": 4,
 "nbformat_minor": 2
}
