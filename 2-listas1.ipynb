{
 "cells": [
  {
   "attachments": {},
   "cell_type": "markdown",
   "metadata": {},
   "source": [
    "En la la lección de hoy hemos aprendido una de las estructuras de datos más usadas en Python, las listas. En el ejericio de hoy pondremos en práctica los métodos aprendidos, vuestros objetivos serán:"
   ]
  },
  {
   "attachments": {},
   "cell_type": "markdown",
   "metadata": {},
   "source": [
    " - Usando la función input, cread un programa que pregunte al usuario por el nombre de tres amig@s.\n"
   ]
  },
  {
   "attachments": {},
   "cell_type": "markdown",
   "metadata": {},
   "source": [
    " - Almacenad los resultados del paso anterior en una lista. 💡💡Pista Tendréis que usar métodos de los strings que aprendimos en la lección anterior.\n"
   ]
  },
  {
   "attachments": {},
   "cell_type": "markdown",
   "metadata": {},
   "source": [
    " - Usando la función input, cread un programa que ahora le pregunte al usuario por las alturas de sus amig@s. Y almacenar los resultados en una lista.\n"
   ]
  },
  {
   "attachments": {},
   "cell_type": "markdown",
   "metadata": {},
   "source": [
    " - Esto os devolverá una lista de strings similar a esta:\n",
    "\n",
    "```python\n",
    "lista_alturas = ['1.45', ' 1.67', ' 1.57']\n",
    "```\n",
    "\n",
    "Nos interesa que las alturas estén en tipo float para eso, ejecutad el siguiente código. No es necesario que lo entendáis, es un concepto más avanzado que aprenderemos en las siguientes lecciones.\n",
    "\n",
    "```python\n",
    "lista_alturas = [float(i) for i in lista_alturas]\n",
    "```"
   ]
  },
  {
   "attachments": {},
   "cell_type": "markdown",
   "metadata": {},
   "source": [
    "\n",
    " - Ordenad las dos listas de mayor a menor. ¿Lo podréis hacer para la lista de nombres?\n"
   ]
  },
  {
   "attachments": {},
   "cell_type": "markdown",
   "metadata": {},
   "source": [
    " - ¿Cuál es la altura máxima de todos nuestros amig@os?\n"
   ]
  },
  {
   "attachments": {},
   "cell_type": "markdown",
   "metadata": {},
   "source": [
    " - ¿Y la mínima?\n"
   ]
  },
  {
   "attachments": {},
   "cell_type": "markdown",
   "metadata": {},
   "source": [
    " - Dadas las siguientes listas:\n",
    "\n",
    "```python\n",
    "lista1 = [44, 55, 67, 44, 98, 29]\n",
    "\n",
    "lista2 = [34, 56, 56, 78, 67, 56]\n",
    "```\n",
    "\n",
    " * Unid las dos listas de forma que consigamos el siguiente output. Almacenad los resultados en una nueva variable y llamadla lista_lista.\n",
    "     \n",
    "```python\n",
    "lista_lista = [[44, 55, 67, 44, 98, 29], [34, 56, 56, 78, 67, 56]]\n",
    "```"
   ]
  },
  {
   "attachments": {},
   "cell_type": "markdown",
   "metadata": {},
   "source": [
    "\n",
    " - Unid las dos listas de forma que consigamos el siguiente output. Almacenad los resultados en una nueva variable y llamadla lista_numeros.\n",
    "lista_numeros = [44, 55, 67, 44, 98, 29, 34, 56, 56, 78, 67, 56]\n"
   ]
  },
  {
   "attachments": {},
   "cell_type": "markdown",
   "metadata": {},
   "source": [
    "De la lista lista_lista, ¿cuántas veces aparece el número 67? ¿y en la lista lista_numeros.\n",
    "Justificad por qué salen números diferentes\n"
   ]
  },
  {
   "cell_type": "markdown",
   "metadata": {},
   "source": [
    "Usando la lista_numeros, dadle la vuelta a la lista."
   ]
  }
 ],
 "metadata": {
  "kernelspec": {
   "display_name": "Python 3",
   "language": "python",
   "name": "python3"
  },
  "language_info": {
   "name": "python",
   "version": "3.6.9"
  },
  "orig_nbformat": 4,
  "vscode": {
   "interpreter": {
    "hash": "31f2aee4e71d21fbe5cf8b01ff0e069b9275f58929596ceb00d14d90e3e16cd6"
   }
  }
 },
 "nbformat": 4,
 "nbformat_minor": 2
}
