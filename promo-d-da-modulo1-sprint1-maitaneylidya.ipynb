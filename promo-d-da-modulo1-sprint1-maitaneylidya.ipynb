{
 "cells": [
  {
   "cell_type": "code",
   "execution_count": 2,
   "metadata": {},
   "outputs": [],
   "source": [
    "numero1 = 1\n",
    "numero2 = 2\n",
    "numero3 = 3\n"
   ]
  },
  {
   "cell_type": "code",
   "execution_count": 5,
   "metadata": {},
   "outputs": [
    {
     "name": "stdout",
     "output_type": "stream",
     "text": [
      "False\n",
      "False\n",
      "False\n",
      "True\n"
     ]
    }
   ],
   "source": [
    "print(numero1 > numero2)\n",
    "print((numero1 < numero2) \n",
    "        and (numero1 > numero3))\n",
    "print(numero3 == numero2)\n",
    "print(numero2 != numero1)"
   ]
  },
  {
   "cell_type": "code",
   "execution_count": 7,
   "metadata": {},
   "outputs": [],
   "source": [
    "altura1 = 6.54\n",
    "altura2 = 7.81"
   ]
  },
  {
   "cell_type": "code",
   "execution_count": 8,
   "metadata": {},
   "outputs": [
    {
     "name": "stdout",
     "output_type": "stream",
     "text": [
      "14.35\n",
      "1.2699999999999996\n",
      "1.2699999999999996\n",
      "1.2\n"
     ]
    }
   ],
   "source": [
    "print(altura1 + altura2)\n",
    "print(altura2 - altura1)\n",
    "print(altura2 % altura1)\n",
    "print(round(altura2 / altura1,1))"
   ]
  },
  {
   "cell_type": "code",
   "execution_count": 3,
   "metadata": {},
   "outputs": [
    {
     "name": "stdout",
     "output_type": "stream",
     "text": [
      "MAITANE PORTILLA LACALLE\n",
      "maitane portilla lacalle\n",
      "Maitane Portilla Lacalle\n",
      "Maitane portilla lacalle\n"
     ]
    }
   ],
   "source": [
    "nombre_completo = input()\n",
    "print(nombre_completo.upper())\n",
    "print(nombre_completo.lower())\n",
    "print(nombre_completo.title())\n",
    "print(nombre_completo.capitalize())"
   ]
  },
  {
   "cell_type": "code",
   "execution_count": 4,
   "metadata": {},
   "outputs": [],
   "source": [
    "frase = input(\"Escriba aquí su frase: \")\n",
    "vocal = input(\"Introduzca una vocal: \")"
   ]
  },
  {
   "cell_type": "code",
   "execution_count": 6,
   "metadata": {},
   "outputs": [
    {
     "name": "stdout",
     "output_type": "stream",
     "text": [
      "E\n",
      "Estamos probando cosas\n"
     ]
    }
   ],
   "source": [
    "print(vocal.upper())\n",
    "print(frase.replace(\"e\", vocal.upper()))"
   ]
  }
 ],
 "metadata": {
  "kernelspec": {
   "display_name": "adalabenv",
   "language": "python",
   "name": "python3"
  },
  "language_info": {
   "codemirror_mode": {
    "name": "ipython",
    "version": 3
   },
   "file_extension": ".py",
   "mimetype": "text/x-python",
   "name": "python",
   "nbconvert_exporter": "python",
   "pygments_lexer": "ipython3",
   "version": "3.10.9"
  },
  "orig_nbformat": 4,
  "vscode": {
   "interpreter": {
    "hash": "982f2751c33df6248463c13acbc6212f8872fb2f983edea342e7641fdc0e9b5d"
   }
  }
 },
 "nbformat": 4,
 "nbformat_minor": 2
}
