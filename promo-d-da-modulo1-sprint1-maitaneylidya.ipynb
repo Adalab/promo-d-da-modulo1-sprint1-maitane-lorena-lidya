{
 "cells": [
  {
   "cell_type": "code",
   "execution_count": 2,
   "metadata": {},
   "outputs": [],
   "source": [
    "numero1 = 1\n",
    "numero2 = 2\n",
    "numero3 = 3\n"
   ]
  },
  {
   "cell_type": "code",
   "execution_count": 5,
   "metadata": {},
   "outputs": [
    {
     "name": "stdout",
     "output_type": "stream",
     "text": [
      "False\n",
      "False\n",
      "False\n",
      "True\n"
     ]
    }
   ],
   "source": [
    "print(numero1 > numero2)\n",
    "print((numero1 < numero2) \n",
    "        and (numero1 > numero3))\n",
    "print(numero3 == numero2)\n",
    "print(numero2 != numero1)"
   ]
  },
  {
   "cell_type": "code",
   "execution_count": 7,
   "metadata": {},
   "outputs": [],
   "source": [
    "altura1 = 6.54\n",
    "altura2 = 7.81"
   ]
  },
  {
   "cell_type": "code",
   "execution_count": 8,
   "metadata": {},
   "outputs": [
    {
     "name": "stdout",
     "output_type": "stream",
     "text": [
      "14.35\n",
      "1.2699999999999996\n",
      "1.2699999999999996\n",
      "1.2\n"
     ]
    }
   ],
   "source": [
    "print(altura1 + altura2)\n",
    "print(altura2 - altura1)\n",
    "print(altura2 % altura1)\n",
    "print(round(altura2 / altura1,1))"
   ]
  },
  {
   "cell_type": "code",
   "execution_count": 4,
   "metadata": {},
   "outputs": [
    {
     "name": "stdout",
     "output_type": "stream",
     "text": [
      "LIDYA DESCALS SAMPER\n",
      "lidya descals samper\n",
      "Lidya Descals Samper\n",
      "Lidya descals samper\n"
     ]
    }
   ],
   "source": [
    "nombre_completo = input()\n",
    "print(nombre_completo.upper())\n",
    "print(nombre_completo.lower())\n",
    "print(nombre_completo.title())\n",
    "print(nombre_completo.capitalize())"
   ]
  },
  {
   "cell_type": "code",
   "execution_count": 2,
   "metadata": {},
   "outputs": [],
   "source": [
    "frase = input(\"Escriba aquí su frase: \")\n",
    "vocal = input(\"Introduzca una vocal: \")"
   ]
  },
  {
   "cell_type": "code",
   "execution_count": 3,
   "metadata": {},
   "outputs": [
    {
     "name": "stdout",
     "output_type": "stream",
     "text": [
      "E\n",
      "Esta frasE llEva más vocalEs\n"
     ]
    }
   ],
   "source": [
    "print(vocal.upper())\n",
    "print(frase.replace(\"e\", vocal.upper()))"
   ]
  }
 ],
 "metadata": {
  "kernelspec": {
   "display_name": "Python 3",
   "language": "python",
   "name": "python3"
  },
  "language_info": {
   "codemirror_mode": {
    "name": "ipython",
    "version": 3
   },
   "file_extension": ".py",
   "mimetype": "text/x-python",
   "name": "python",
   "nbconvert_exporter": "python",
   "pygments_lexer": "ipython3",
   "version": "3.6.9"
  },
  "orig_nbformat": 4,
  "vscode": {
   "interpreter": {
    "hash": "31f2aee4e71d21fbe5cf8b01ff0e069b9275f58929596ceb00d14d90e3e16cd6"
   }
  }
 },
 "nbformat": 4,
 "nbformat_minor": 2
}
